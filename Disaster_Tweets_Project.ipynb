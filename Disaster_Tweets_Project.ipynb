{
  "cells": [
    {
      "cell_type": "markdown",
      "metadata": {
        "id": "lZbEIxUhgDJO"
      },
      "source": [
        "# Disaster tweet Project\n",
        "\n",
        "Analysis disaster tweet for Jedha certification. #block4"
      ]
    },
    {
      "cell_type": "code",
      "execution_count": 3,
      "metadata": {
        "colab": {
          "base_uri": "https://localhost:8080/",
          "height": 51
        },
        "id": "tiz5sF3rgDJT",
        "outputId": "60b833e1-169d-4cd2-d46a-ffc49a08f8f9"
      },
      "outputs": [
        {
          "output_type": "stream",
          "name": "stdout",
          "text": [
            "[nltk_data] Downloading package punkt to /root/nltk_data...\n",
            "[nltk_data]   Unzipping tokenizers/punkt.zip.\n"
          ]
        },
        {
          "output_type": "display_data",
          "data": {
            "text/html": [
              "        <script type=\"text/javascript\">\n",
              "        window.PlotlyConfig = {MathJaxConfig: 'local'};\n",
              "        if (window.MathJax) {MathJax.Hub.Config({SVG: {font: \"STIX-Web\"}});}\n",
              "        if (typeof require !== 'undefined') {\n",
              "        require.undef(\"plotly\");\n",
              "        requirejs.config({\n",
              "            paths: {\n",
              "                'plotly': ['https://cdn.plot.ly/plotly-2.8.3.min']\n",
              "            }\n",
              "        });\n",
              "        require(['plotly'], function(Plotly) {\n",
              "            window._Plotly = Plotly;\n",
              "        });\n",
              "        }\n",
              "        </script>\n",
              "        "
            ]
          },
          "metadata": {}
        },
        {
          "output_type": "display_data",
          "data": {
            "text/html": [
              "        <script type=\"text/javascript\">\n",
              "        window.PlotlyConfig = {MathJaxConfig: 'local'};\n",
              "        if (window.MathJax) {MathJax.Hub.Config({SVG: {font: \"STIX-Web\"}});}\n",
              "        if (typeof require !== 'undefined') {\n",
              "        require.undef(\"plotly\");\n",
              "        requirejs.config({\n",
              "            paths: {\n",
              "                'plotly': ['https://cdn.plot.ly/plotly-2.8.3.min']\n",
              "            }\n",
              "        });\n",
              "        require(['plotly'], function(Plotly) {\n",
              "            window._Plotly = Plotly;\n",
              "        });\n",
              "        }\n",
              "        </script>\n",
              "        "
            ]
          },
          "metadata": {}
        }
      ],
      "source": [
        "# import\n",
        "import numpy as np\n",
        "import pandas as pd\n",
        "import seaborn as sns\n",
        "import tensorflow as tf\n",
        "\n",
        "import matplotlib.pyplot as plt\n",
        "%matplotlib inline\n",
        "\n",
        "import keras\n",
        "from keras import layers\n",
        "\n",
        "from keras.models import Sequential, Model\n",
        "from keras.layers.merge import concatenate\n",
        "from keras.utils.vis_utils import plot_model\n",
        "from keras.preprocessing.text import Tokenizer\n",
        "from keras.preprocessing.sequence import pad_sequences\n",
        "\n",
        "\n",
        "from keras.layers import *\n",
        "from keras.callbacks import *\n",
        "\n",
        "\n",
        "from sklearn.preprocessing import OneHotEncoder\n",
        "from sklearn.model_selection import train_test_split\n",
        "from sklearn.feature_extraction.text import CountVectorizer\n",
        "\n",
        "import re\n",
        "import nltk\n",
        "nltk.download('punkt')\n",
        "from nltk.corpus import stopwords\n",
        "from nltk.tokenize import word_tokenize\n",
        "from nltk.stem.snowball import SnowballStemmer\n",
        "from nltk.stem import WordNetLemmatizer,PorterStemmer,LancasterStemmer\n",
        "\n",
        "from wordcloud import WordCloud,STOPWORDS\n",
        "from IPython.display import HTML, display\n",
        "from IPython.core.interactiveshell import InteractiveShell\n",
        "InteractiveShell.ast_node_interactivity = 'all'\n",
        "\n",
        "import plotly\n",
        "import cufflinks\n",
        "import plotly.express as px\n",
        "import plotly.graph_objs as go\n",
        "from plotly.offline import iplot\n",
        "\n",
        "import plotly.figure_factory as ff\n",
        "from plotly.subplots import make_subplots\n",
        "\n",
        "plotly.offline.init_notebook_mode(connected=True)\n",
        "cufflinks.go_offline()\n",
        "cufflinks.set_config_file(world_readable=True, theme='pearl')\n",
        "\n",
        "import warnings\n",
        "from string import punctuation\n",
        "from collections import defaultdict\n",
        "warnings.filterwarnings('ignore')\n",
        "\n",
        "%load_ext autoreload\n",
        "%autoreload 2"
      ]
    },
    {
      "cell_type": "markdown",
      "metadata": {
        "id": "A682dyEUgDJW"
      },
      "source": [
        "## Load data"
      ]
    },
    {
      "cell_type": "code",
      "execution_count": 8,
      "metadata": {
        "id": "Cr5uxyVWgDJX"
      },
      "outputs": [],
      "source": [
        "# dataset csv\n",
        "train_df = pd.read_csv(\"/content/train.csv\")\n",
        "test_df = pd.read_csv(\"/content/test.csv\")\n"
      ]
    },
    {
      "cell_type": "markdown",
      "metadata": {
        "id": "z3cH6RKlgDJX"
      },
      "source": [
        "## EDA"
      ]
    },
    {
      "cell_type": "markdown",
      "metadata": {
        "id": "7GreVtPHgDJZ"
      },
      "source": [
        "#### Basic statistics"
      ]
    },
    {
      "cell_type": "code",
      "execution_count": 9,
      "metadata": {
        "colab": {
          "base_uri": "https://localhost:8080/",
          "height": 757
        },
        "id": "PBuFTV2dgDJZ",
        "outputId": "7bfc7e61-51be-489d-d159-e6f45bb8bed4"
      },
      "outputs": [
        {
          "output_type": "stream",
          "name": "stdout",
          "text": [
            "Number of rows : 7613\n",
            "\n",
            "Display of dataset: \n"
          ]
        },
        {
          "output_type": "display_data",
          "data": {
            "text/html": [
              "\n",
              "  <div id=\"df-e3b8830e-d665-4842-b11a-bfce619ee425\">\n",
              "    <div class=\"colab-df-container\">\n",
              "      <div>\n",
              "<style scoped>\n",
              "    .dataframe tbody tr th:only-of-type {\n",
              "        vertical-align: middle;\n",
              "    }\n",
              "\n",
              "    .dataframe tbody tr th {\n",
              "        vertical-align: top;\n",
              "    }\n",
              "\n",
              "    .dataframe thead th {\n",
              "        text-align: right;\n",
              "    }\n",
              "</style>\n",
              "<table border=\"1\" class=\"dataframe\">\n",
              "  <thead>\n",
              "    <tr style=\"text-align: right;\">\n",
              "      <th></th>\n",
              "      <th>text</th>\n",
              "      <th>target</th>\n",
              "    </tr>\n",
              "  </thead>\n",
              "  <tbody>\n",
              "    <tr>\n",
              "      <th>0</th>\n",
              "      <td>Our Deeds are the Reason of this #earthquake M...</td>\n",
              "      <td>1</td>\n",
              "    </tr>\n",
              "    <tr>\n",
              "      <th>1</th>\n",
              "      <td>Forest fire near La Ronge Sask. Canada</td>\n",
              "      <td>1</td>\n",
              "    </tr>\n",
              "    <tr>\n",
              "      <th>2</th>\n",
              "      <td>All residents asked to 'shelter in place' are ...</td>\n",
              "      <td>1</td>\n",
              "    </tr>\n",
              "    <tr>\n",
              "      <th>3</th>\n",
              "      <td>13,000 people receive #wildfires evacuation or...</td>\n",
              "      <td>1</td>\n",
              "    </tr>\n",
              "    <tr>\n",
              "      <th>4</th>\n",
              "      <td>Just got sent this photo from Ruby #Alaska as ...</td>\n",
              "      <td>1</td>\n",
              "    </tr>\n",
              "  </tbody>\n",
              "</table>\n",
              "</div>\n",
              "      <button class=\"colab-df-convert\" onclick=\"convertToInteractive('df-e3b8830e-d665-4842-b11a-bfce619ee425')\"\n",
              "              title=\"Convert this dataframe to an interactive table.\"\n",
              "              style=\"display:none;\">\n",
              "        \n",
              "  <svg xmlns=\"http://www.w3.org/2000/svg\" height=\"24px\"viewBox=\"0 0 24 24\"\n",
              "       width=\"24px\">\n",
              "    <path d=\"M0 0h24v24H0V0z\" fill=\"none\"/>\n",
              "    <path d=\"M18.56 5.44l.94 2.06.94-2.06 2.06-.94-2.06-.94-.94-2.06-.94 2.06-2.06.94zm-11 1L8.5 8.5l.94-2.06 2.06-.94-2.06-.94L8.5 2.5l-.94 2.06-2.06.94zm10 10l.94 2.06.94-2.06 2.06-.94-2.06-.94-.94-2.06-.94 2.06-2.06.94z\"/><path d=\"M17.41 7.96l-1.37-1.37c-.4-.4-.92-.59-1.43-.59-.52 0-1.04.2-1.43.59L10.3 9.45l-7.72 7.72c-.78.78-.78 2.05 0 2.83L4 21.41c.39.39.9.59 1.41.59.51 0 1.02-.2 1.41-.59l7.78-7.78 2.81-2.81c.8-.78.8-2.07 0-2.86zM5.41 20L4 18.59l7.72-7.72 1.47 1.35L5.41 20z\"/>\n",
              "  </svg>\n",
              "      </button>\n",
              "      \n",
              "  <style>\n",
              "    .colab-df-container {\n",
              "      display:flex;\n",
              "      flex-wrap:wrap;\n",
              "      gap: 12px;\n",
              "    }\n",
              "\n",
              "    .colab-df-convert {\n",
              "      background-color: #E8F0FE;\n",
              "      border: none;\n",
              "      border-radius: 50%;\n",
              "      cursor: pointer;\n",
              "      display: none;\n",
              "      fill: #1967D2;\n",
              "      height: 32px;\n",
              "      padding: 0 0 0 0;\n",
              "      width: 32px;\n",
              "    }\n",
              "\n",
              "    .colab-df-convert:hover {\n",
              "      background-color: #E2EBFA;\n",
              "      box-shadow: 0px 1px 2px rgba(60, 64, 67, 0.3), 0px 1px 3px 1px rgba(60, 64, 67, 0.15);\n",
              "      fill: #174EA6;\n",
              "    }\n",
              "\n",
              "    [theme=dark] .colab-df-convert {\n",
              "      background-color: #3B4455;\n",
              "      fill: #D2E3FC;\n",
              "    }\n",
              "\n",
              "    [theme=dark] .colab-df-convert:hover {\n",
              "      background-color: #434B5C;\n",
              "      box-shadow: 0px 1px 3px 1px rgba(0, 0, 0, 0.15);\n",
              "      filter: drop-shadow(0px 1px 2px rgba(0, 0, 0, 0.3));\n",
              "      fill: #FFFFFF;\n",
              "    }\n",
              "  </style>\n",
              "\n",
              "      <script>\n",
              "        const buttonEl =\n",
              "          document.querySelector('#df-e3b8830e-d665-4842-b11a-bfce619ee425 button.colab-df-convert');\n",
              "        buttonEl.style.display =\n",
              "          google.colab.kernel.accessAllowed ? 'block' : 'none';\n",
              "\n",
              "        async function convertToInteractive(key) {\n",
              "          const element = document.querySelector('#df-e3b8830e-d665-4842-b11a-bfce619ee425');\n",
              "          const dataTable =\n",
              "            await google.colab.kernel.invokeFunction('convertToInteractive',\n",
              "                                                     [key], {});\n",
              "          if (!dataTable) return;\n",
              "\n",
              "          const docLinkHtml = 'Like what you see? Visit the ' +\n",
              "            '<a target=\"_blank\" href=https://colab.research.google.com/notebooks/data_table.ipynb>data table notebook</a>'\n",
              "            + ' to learn more about interactive tables.';\n",
              "          element.innerHTML = '';\n",
              "          dataTable['output_type'] = 'display_data';\n",
              "          await google.colab.output.renderOutput(dataTable, element);\n",
              "          const docLink = document.createElement('div');\n",
              "          docLink.innerHTML = docLinkHtml;\n",
              "          element.appendChild(docLink);\n",
              "        }\n",
              "      </script>\n",
              "    </div>\n",
              "  </div>\n",
              "  "
            ],
            "text/plain": [
              "                                                text  target\n",
              "0  Our Deeds are the Reason of this #earthquake M...       1\n",
              "1             Forest fire near La Ronge Sask. Canada       1\n",
              "2  All residents asked to 'shelter in place' are ...       1\n",
              "3  13,000 people receive #wildfires evacuation or...       1\n",
              "4  Just got sent this photo from Ruby #Alaska as ...       1"
            ]
          },
          "metadata": {}
        },
        {
          "output_type": "stream",
          "name": "stdout",
          "text": [
            "\n",
            "Basics statistics: \n"
          ]
        },
        {
          "output_type": "display_data",
          "data": {
            "text/html": [
              "\n",
              "  <div id=\"df-5b80bbb6-4f43-4fe4-a338-a8a9569c3de2\">\n",
              "    <div class=\"colab-df-container\">\n",
              "      <div>\n",
              "<style scoped>\n",
              "    .dataframe tbody tr th:only-of-type {\n",
              "        vertical-align: middle;\n",
              "    }\n",
              "\n",
              "    .dataframe tbody tr th {\n",
              "        vertical-align: top;\n",
              "    }\n",
              "\n",
              "    .dataframe thead th {\n",
              "        text-align: right;\n",
              "    }\n",
              "</style>\n",
              "<table border=\"1\" class=\"dataframe\">\n",
              "  <thead>\n",
              "    <tr style=\"text-align: right;\">\n",
              "      <th></th>\n",
              "      <th>text</th>\n",
              "      <th>target</th>\n",
              "    </tr>\n",
              "  </thead>\n",
              "  <tbody>\n",
              "    <tr>\n",
              "      <th>count</th>\n",
              "      <td>7613</td>\n",
              "      <td>7613.00000</td>\n",
              "    </tr>\n",
              "    <tr>\n",
              "      <th>unique</th>\n",
              "      <td>7503</td>\n",
              "      <td>NaN</td>\n",
              "    </tr>\n",
              "    <tr>\n",
              "      <th>top</th>\n",
              "      <td>11-Year-Old Boy Charged With Manslaughter of T...</td>\n",
              "      <td>NaN</td>\n",
              "    </tr>\n",
              "    <tr>\n",
              "      <th>freq</th>\n",
              "      <td>10</td>\n",
              "      <td>NaN</td>\n",
              "    </tr>\n",
              "    <tr>\n",
              "      <th>mean</th>\n",
              "      <td>NaN</td>\n",
              "      <td>0.42966</td>\n",
              "    </tr>\n",
              "    <tr>\n",
              "      <th>std</th>\n",
              "      <td>NaN</td>\n",
              "      <td>0.49506</td>\n",
              "    </tr>\n",
              "    <tr>\n",
              "      <th>min</th>\n",
              "      <td>NaN</td>\n",
              "      <td>0.00000</td>\n",
              "    </tr>\n",
              "    <tr>\n",
              "      <th>25%</th>\n",
              "      <td>NaN</td>\n",
              "      <td>0.00000</td>\n",
              "    </tr>\n",
              "    <tr>\n",
              "      <th>50%</th>\n",
              "      <td>NaN</td>\n",
              "      <td>0.00000</td>\n",
              "    </tr>\n",
              "    <tr>\n",
              "      <th>75%</th>\n",
              "      <td>NaN</td>\n",
              "      <td>1.00000</td>\n",
              "    </tr>\n",
              "    <tr>\n",
              "      <th>max</th>\n",
              "      <td>NaN</td>\n",
              "      <td>1.00000</td>\n",
              "    </tr>\n",
              "  </tbody>\n",
              "</table>\n",
              "</div>\n",
              "      <button class=\"colab-df-convert\" onclick=\"convertToInteractive('df-5b80bbb6-4f43-4fe4-a338-a8a9569c3de2')\"\n",
              "              title=\"Convert this dataframe to an interactive table.\"\n",
              "              style=\"display:none;\">\n",
              "        \n",
              "  <svg xmlns=\"http://www.w3.org/2000/svg\" height=\"24px\"viewBox=\"0 0 24 24\"\n",
              "       width=\"24px\">\n",
              "    <path d=\"M0 0h24v24H0V0z\" fill=\"none\"/>\n",
              "    <path d=\"M18.56 5.44l.94 2.06.94-2.06 2.06-.94-2.06-.94-.94-2.06-.94 2.06-2.06.94zm-11 1L8.5 8.5l.94-2.06 2.06-.94-2.06-.94L8.5 2.5l-.94 2.06-2.06.94zm10 10l.94 2.06.94-2.06 2.06-.94-2.06-.94-.94-2.06-.94 2.06-2.06.94z\"/><path d=\"M17.41 7.96l-1.37-1.37c-.4-.4-.92-.59-1.43-.59-.52 0-1.04.2-1.43.59L10.3 9.45l-7.72 7.72c-.78.78-.78 2.05 0 2.83L4 21.41c.39.39.9.59 1.41.59.51 0 1.02-.2 1.41-.59l7.78-7.78 2.81-2.81c.8-.78.8-2.07 0-2.86zM5.41 20L4 18.59l7.72-7.72 1.47 1.35L5.41 20z\"/>\n",
              "  </svg>\n",
              "      </button>\n",
              "      \n",
              "  <style>\n",
              "    .colab-df-container {\n",
              "      display:flex;\n",
              "      flex-wrap:wrap;\n",
              "      gap: 12px;\n",
              "    }\n",
              "\n",
              "    .colab-df-convert {\n",
              "      background-color: #E8F0FE;\n",
              "      border: none;\n",
              "      border-radius: 50%;\n",
              "      cursor: pointer;\n",
              "      display: none;\n",
              "      fill: #1967D2;\n",
              "      height: 32px;\n",
              "      padding: 0 0 0 0;\n",
              "      width: 32px;\n",
              "    }\n",
              "\n",
              "    .colab-df-convert:hover {\n",
              "      background-color: #E2EBFA;\n",
              "      box-shadow: 0px 1px 2px rgba(60, 64, 67, 0.3), 0px 1px 3px 1px rgba(60, 64, 67, 0.15);\n",
              "      fill: #174EA6;\n",
              "    }\n",
              "\n",
              "    [theme=dark] .colab-df-convert {\n",
              "      background-color: #3B4455;\n",
              "      fill: #D2E3FC;\n",
              "    }\n",
              "\n",
              "    [theme=dark] .colab-df-convert:hover {\n",
              "      background-color: #434B5C;\n",
              "      box-shadow: 0px 1px 3px 1px rgba(0, 0, 0, 0.15);\n",
              "      filter: drop-shadow(0px 1px 2px rgba(0, 0, 0, 0.3));\n",
              "      fill: #FFFFFF;\n",
              "    }\n",
              "  </style>\n",
              "\n",
              "      <script>\n",
              "        const buttonEl =\n",
              "          document.querySelector('#df-5b80bbb6-4f43-4fe4-a338-a8a9569c3de2 button.colab-df-convert');\n",
              "        buttonEl.style.display =\n",
              "          google.colab.kernel.accessAllowed ? 'block' : 'none';\n",
              "\n",
              "        async function convertToInteractive(key) {\n",
              "          const element = document.querySelector('#df-5b80bbb6-4f43-4fe4-a338-a8a9569c3de2');\n",
              "          const dataTable =\n",
              "            await google.colab.kernel.invokeFunction('convertToInteractive',\n",
              "                                                     [key], {});\n",
              "          if (!dataTable) return;\n",
              "\n",
              "          const docLinkHtml = 'Like what you see? Visit the ' +\n",
              "            '<a target=\"_blank\" href=https://colab.research.google.com/notebooks/data_table.ipynb>data table notebook</a>'\n",
              "            + ' to learn more about interactive tables.';\n",
              "          element.innerHTML = '';\n",
              "          dataTable['output_type'] = 'display_data';\n",
              "          await google.colab.output.renderOutput(dataTable, element);\n",
              "          const docLink = document.createElement('div');\n",
              "          docLink.innerHTML = docLinkHtml;\n",
              "          element.appendChild(docLink);\n",
              "        }\n",
              "      </script>\n",
              "    </div>\n",
              "  </div>\n",
              "  "
            ],
            "text/plain": [
              "                                                     text      target\n",
              "count                                                7613  7613.00000\n",
              "unique                                               7503         NaN\n",
              "top     11-Year-Old Boy Charged With Manslaughter of T...         NaN\n",
              "freq                                                   10         NaN\n",
              "mean                                                  NaN     0.42966\n",
              "std                                                   NaN     0.49506\n",
              "min                                                   NaN     0.00000\n",
              "25%                                                   NaN     0.00000\n",
              "50%                                                   NaN     0.00000\n",
              "75%                                                   NaN     1.00000\n",
              "max                                                   NaN     1.00000"
            ]
          },
          "metadata": {}
        },
        {
          "output_type": "stream",
          "name": "stdout",
          "text": [
            "\n",
            " Missing values: \n",
            "text      0\n",
            "target    0\n",
            "dtype: int64\n"
          ]
        }
      ],
      "source": [
        "df = train_df[[\"text\", \"target\"]].copy()\n",
        "\n",
        "print(\"Number of rows : {}\".format(df.shape[0]))\n",
        "print()\n",
        "\n",
        "print(\"Display of dataset: \")\n",
        "display(df.head())\n",
        "print()\n",
        "\n",
        "print(\"Basics statistics: \")\n",
        "data_desc = df.describe(include='all')\n",
        "display(data_desc)\n",
        "print()\n",
        "\n",
        "print(\" Missing values: \")\n",
        "print(df.isnull().sum())"
      ]
    },
    {
      "cell_type": "markdown",
      "metadata": {
        "id": "XQRrsnXogDJa"
      },
      "source": [
        "#### Analysis"
      ]
    },
    {
      "cell_type": "code",
      "execution_count": 10,
      "metadata": {
        "colab": {
          "base_uri": "https://localhost:8080/",
          "height": 475
        },
        "id": "WmI4n13MgDJb",
        "outputId": "7b725ad5-a280-48a9-ccf9-d5843bec69eb"
      },
      "outputs": [
        {
          "output_type": "execute_result",
          "data": {
            "text/plain": [
              "<Figure size 720x504 with 0 Axes>"
            ]
          },
          "metadata": {},
          "execution_count": 10
        },
        {
          "output_type": "execute_result",
          "data": {
            "text/plain": [
              "Text(0.5, 1.0, 'Counts for disasters and non disasters tweets')"
            ]
          },
          "metadata": {},
          "execution_count": 10
        },
        {
          "output_type": "display_data",
          "data": {
            "image/png": "[encoded data removed]",
            "text/plain": [
              "<Figure size 720x504 with 1 Axes>"
            ]
          },
          "metadata": {
            "needs_background": "light"
          }
        }
      ],
      "source": [
        "# number of plot\n",
        "disaster_count_df = pd.DataFrame(df.groupby([\"target\"]).size()).reset_index()\n",
        "disaster_count_df = disaster_count_df.rename(columns={0: \"Count\", \n",
        "                                            \"target\" : \"Disaster tweet\"})\n",
        "disaster_count_df[\"Disaster tweet\"] = disaster_count_df[\"Disaster tweet\"].apply(lambda x : \"Real\" if x==1 else \"Not Real\")\n",
        "\n",
        "# bar plot by conversion class\n",
        "plt.figure(figsize=(10,7))\n",
        "ax = sns.barplot(x=\"Disaster tweet\", y=\"Count\", data=disaster_count_df);\n",
        "plt.title(\"Counts for disasters and non disasters tweets\")\n",
        "plt.show()"
      ]
    },
    {
      "cell_type": "code",
      "execution_count": 11,
      "metadata": {
        "colab": {
          "base_uri": "https://localhost:8080/",
          "height": 743
        },
        "id": "sphUFa_8gDJb",
        "outputId": "36af6c3b-be46-4511-c381-d6fea8c9d58e"
      },
      "outputs": [
        {
          "output_type": "stream",
          "name": "stdout",
          "text": [
            "Stop words for Non disaster target\n"
          ]
        },
        {
          "output_type": "display_data",
          "data": {
            "text/html": [
              "\n",
              "  <div id=\"df-df09b5b7-4c65-4646-ba32-147560f954e7\">\n",
              "    <div class=\"colab-df-container\">\n",
              "      <div>\n",
              "<style scoped>\n",
              "    .dataframe tbody tr th:only-of-type {\n",
              "        vertical-align: middle;\n",
              "    }\n",
              "\n",
              "    .dataframe tbody tr th {\n",
              "        vertical-align: top;\n",
              "    }\n",
              "\n",
              "    .dataframe thead th {\n",
              "        text-align: right;\n",
              "    }\n",
              "</style>\n",
              "<table border=\"1\" class=\"dataframe\">\n",
              "  <thead>\n",
              "    <tr style=\"text-align: right;\">\n",
              "      <th></th>\n",
              "      <th>stop_words</th>\n",
              "      <th>count</th>\n",
              "    </tr>\n",
              "  </thead>\n",
              "  <tbody>\n",
              "    <tr>\n",
              "      <th>9</th>\n",
              "      <td>for</td>\n",
              "      <td>452</td>\n",
              "    </tr>\n",
              "    <tr>\n",
              "      <th>8</th>\n",
              "      <td>is</td>\n",
              "      <td>512</td>\n",
              "    </tr>\n",
              "    <tr>\n",
              "      <th>7</th>\n",
              "      <td>you</td>\n",
              "      <td>529</td>\n",
              "    </tr>\n",
              "    <tr>\n",
              "      <th>6</th>\n",
              "      <td>in</td>\n",
              "      <td>720</td>\n",
              "    </tr>\n",
              "    <tr>\n",
              "      <th>5</th>\n",
              "      <td>of</td>\n",
              "      <td>834</td>\n",
              "    </tr>\n",
              "    <tr>\n",
              "      <th>4</th>\n",
              "      <td>and</td>\n",
              "      <td>840</td>\n",
              "    </tr>\n",
              "    <tr>\n",
              "      <th>3</th>\n",
              "      <td>I</td>\n",
              "      <td>938</td>\n",
              "    </tr>\n",
              "    <tr>\n",
              "      <th>2</th>\n",
              "      <td>to</td>\n",
              "      <td>1099</td>\n",
              "    </tr>\n",
              "    <tr>\n",
              "      <th>1</th>\n",
              "      <td>a</td>\n",
              "      <td>1115</td>\n",
              "    </tr>\n",
              "    <tr>\n",
              "      <th>0</th>\n",
              "      <td>the</td>\n",
              "      <td>1524</td>\n",
              "    </tr>\n",
              "  </tbody>\n",
              "</table>\n",
              "</div>\n",
              "      <button class=\"colab-df-convert\" onclick=\"convertToInteractive('df-df09b5b7-4c65-4646-ba32-147560f954e7')\"\n",
              "              title=\"Convert this dataframe to an interactive table.\"\n",
              "              style=\"display:none;\">\n",
              "        \n",
              "  <svg xmlns=\"http://www.w3.org/2000/svg\" height=\"24px\"viewBox=\"0 0 24 24\"\n",
              "       width=\"24px\">\n",
              "    <path d=\"M0 0h24v24H0V0z\" fill=\"none\"/>\n",
              "    <path d=\"M18.56 5.44l.94 2.06.94-2.06 2.06-.94-2.06-.94-.94-2.06-.94 2.06-2.06.94zm-11 1L8.5 8.5l.94-2.06 2.06-.94-2.06-.94L8.5 2.5l-.94 2.06-2.06.94zm10 10l.94 2.06.94-2.06 2.06-.94-2.06-.94-.94-2.06-.94 2.06-2.06.94z\"/><path d=\"M17.41 7.96l-1.37-1.37c-.4-.4-.92-.59-1.43-.59-.52 0-1.04.2-1.43.59L10.3 9.45l-7.72 7.72c-.78.78-.78 2.05 0 2.83L4 21.41c.39.39.9.59 1.41.59.51 0 1.02-.2 1.41-.59l7.78-7.78 2.81-2.81c.8-.78.8-2.07 0-2.86zM5.41 20L4 18.59l7.72-7.72 1.47 1.35L5.41 20z\"/>\n",
              "  </svg>\n",
              "      </button>\n",
              "      \n",
              "  <style>\n",
              "    .colab-df-container {\n",
              "      display:flex;\n",
              "      flex-wrap:wrap;\n",
              "      gap: 12px;\n",
              "    }\n",
              "\n",
              "    .colab-df-convert {\n",
              "      background-color: #E8F0FE;\n",
              "      border: none;\n",
              "      border-radius: 50%;\n",
              "      cursor: pointer;\n",
              "      display: none;\n",
              "      fill: #1967D2;\n",
              "      height: 32px;\n",
              "      padding: 0 0 0 0;\n",
              "      width: 32px;\n",
              "    }\n",
              "\n",
              "    .colab-df-convert:hover {\n",
              "      background-color: #E2EBFA;\n",
              "      box-shadow: 0px 1px 2px rgba(60, 64, 67, 0.3), 0px 1px 3px 1px rgba(60, 64, 67, 0.15);\n",
              "      fill: #174EA6;\n",
              "    }\n",
              "\n",
              "    [theme=dark] .colab-df-convert {\n",
              "      background-color: #3B4455;\n",
              "      fill: #D2E3FC;\n",
              "    }\n",
              "\n",
              "    [theme=dark] .colab-df-convert:hover {\n",
              "      background-color: #434B5C;\n",
              "      box-shadow: 0px 1px 3px 1px rgba(0, 0, 0, 0.15);\n",
              "      filter: drop-shadow(0px 1px 2px rgba(0, 0, 0, 0.3));\n",
              "      fill: #FFFFFF;\n",
              "    }\n",
              "  </style>\n",
              "\n",
              "      <script>\n",
              "        const buttonEl =\n",
              "          document.querySelector('#df-df09b5b7-4c65-4646-ba32-147560f954e7 button.colab-df-convert');\n",
              "        buttonEl.style.display =\n",
              "          google.colab.kernel.accessAllowed ? 'block' : 'none';\n",
              "\n",
              "        async function convertToInteractive(key) {\n",
              "          const element = document.querySelector('#df-df09b5b7-4c65-4646-ba32-147560f954e7');\n",
              "          const dataTable =\n",
              "            await google.colab.kernel.invokeFunction('convertToInteractive',\n",
              "                                                     [key], {});\n",
              "          if (!dataTable) return;\n",
              "\n",
              "          const docLinkHtml = 'Like what you see? Visit the ' +\n",
              "            '<a target=\"_blank\" href=https://colab.research.google.com/notebooks/data_table.ipynb>data table notebook</a>'\n",
              "            + ' to learn more about interactive tables.';\n",
              "          element.innerHTML = '';\n",
              "          dataTable['output_type'] = 'display_data';\n",
              "          await google.colab.output.renderOutput(dataTable, element);\n",
              "          const docLink = document.createElement('div');\n",
              "          docLink.innerHTML = docLinkHtml;\n",
              "          element.appendChild(docLink);\n",
              "        }\n",
              "      </script>\n",
              "    </div>\n",
              "  </div>\n",
              "  "
            ],
            "text/plain": [
              "  stop_words  count\n",
              "9        for    452\n",
              "8         is    512\n",
              "7        you    529\n",
              "6         in    720\n",
              "5         of    834\n",
              "4        and    840\n",
              "3          I    938\n",
              "2         to   1099\n",
              "1          a   1115\n",
              "0        the   1524"
            ]
          },
          "metadata": {}
        },
        {
          "output_type": "stream",
          "name": "stdout",
          "text": [
            "Stop words for disaster target\n"
          ]
        },
        {
          "output_type": "display_data",
          "data": {
            "text/html": [
              "\n",
              "  <div id=\"df-cf771824-1fc5-4f43-9fd1-de36a3e54c2c\">\n",
              "    <div class=\"colab-df-container\">\n",
              "      <div>\n",
              "<style scoped>\n",
              "    .dataframe tbody tr th:only-of-type {\n",
              "        vertical-align: middle;\n",
              "    }\n",
              "\n",
              "    .dataframe tbody tr th {\n",
              "        vertical-align: top;\n",
              "    }\n",
              "\n",
              "    .dataframe thead th {\n",
              "        text-align: right;\n",
              "    }\n",
              "</style>\n",
              "<table border=\"1\" class=\"dataframe\">\n",
              "  <thead>\n",
              "    <tr style=\"text-align: right;\">\n",
              "      <th></th>\n",
              "      <th>stop_words</th>\n",
              "      <th>count</th>\n",
              "    </tr>\n",
              "  </thead>\n",
              "  <tbody>\n",
              "    <tr>\n",
              "      <th>9</th>\n",
              "      <td>is</td>\n",
              "      <td>302</td>\n",
              "    </tr>\n",
              "    <tr>\n",
              "      <th>8</th>\n",
              "      <td>for</td>\n",
              "      <td>368</td>\n",
              "    </tr>\n",
              "    <tr>\n",
              "      <th>7</th>\n",
              "      <td>on</td>\n",
              "      <td>386</td>\n",
              "    </tr>\n",
              "    <tr>\n",
              "      <th>6</th>\n",
              "      <td>-</td>\n",
              "      <td>389</td>\n",
              "    </tr>\n",
              "    <tr>\n",
              "      <th>5</th>\n",
              "      <td>and</td>\n",
              "      <td>462</td>\n",
              "    </tr>\n",
              "    <tr>\n",
              "      <th>4</th>\n",
              "      <td>to</td>\n",
              "      <td>706</td>\n",
              "    </tr>\n",
              "    <tr>\n",
              "      <th>3</th>\n",
              "      <td>a</td>\n",
              "      <td>730</td>\n",
              "    </tr>\n",
              "    <tr>\n",
              "      <th>2</th>\n",
              "      <td>of</td>\n",
              "      <td>888</td>\n",
              "    </tr>\n",
              "    <tr>\n",
              "      <th>1</th>\n",
              "      <td>in</td>\n",
              "      <td>1037</td>\n",
              "    </tr>\n",
              "    <tr>\n",
              "      <th>0</th>\n",
              "      <td>the</td>\n",
              "      <td>1051</td>\n",
              "    </tr>\n",
              "  </tbody>\n",
              "</table>\n",
              "</div>\n",
              "      <button class=\"colab-df-convert\" onclick=\"convertToInteractive('df-cf771824-1fc5-4f43-9fd1-de36a3e54c2c')\"\n",
              "              title=\"Convert this dataframe to an interactive table.\"\n",
              "              style=\"display:none;\">\n",
              "        \n",
              "  <svg xmlns=\"http://www.w3.org/2000/svg\" height=\"24px\"viewBox=\"0 0 24 24\"\n",
              "       width=\"24px\">\n",
              "    <path d=\"M0 0h24v24H0V0z\" fill=\"none\"/>\n",
              "    <path d=\"M18.56 5.44l.94 2.06.94-2.06 2.06-.94-2.06-.94-.94-2.06-.94 2.06-2.06.94zm-11 1L8.5 8.5l.94-2.06 2.06-.94-2.06-.94L8.5 2.5l-.94 2.06-2.06.94zm10 10l.94 2.06.94-2.06 2.06-.94-2.06-.94-.94-2.06-.94 2.06-2.06.94z\"/><path d=\"M17.41 7.96l-1.37-1.37c-.4-.4-.92-.59-1.43-.59-.52 0-1.04.2-1.43.59L10.3 9.45l-7.72 7.72c-.78.78-.78 2.05 0 2.83L4 21.41c.39.39.9.59 1.41.59.51 0 1.02-.2 1.41-.59l7.78-7.78 2.81-2.81c.8-.78.8-2.07 0-2.86zM5.41 20L4 18.59l7.72-7.72 1.47 1.35L5.41 20z\"/>\n",
              "  </svg>\n",
              "      </button>\n",
              "      \n",
              "  <style>\n",
              "    .colab-df-container {\n",
              "      display:flex;\n",
              "      flex-wrap:wrap;\n",
              "      gap: 12px;\n",
              "    }\n",
              "\n",
              "    .colab-df-convert {\n",
              "      background-color: #E8F0FE;\n",
              "      border: none;\n",
              "      border-radius: 50%;\n",
              "      cursor: pointer;\n",
              "      display: none;\n",
              "      fill: #1967D2;\n",
              "      height: 32px;\n",
              "      padding: 0 0 0 0;\n",
              "      width: 32px;\n",
              "    }\n",
              "\n",
              "    .colab-df-convert:hover {\n",
              "      background-color: #E2EBFA;\n",
              "      box-shadow: 0px 1px 2px rgba(60, 64, 67, 0.3), 0px 1px 3px 1px rgba(60, 64, 67, 0.15);\n",
              "      fill: #174EA6;\n",
              "    }\n",
              "\n",
              "    [theme=dark] .colab-df-convert {\n",
              "      background-color: #3B4455;\n",
              "      fill: #D2E3FC;\n",
              "    }\n",
              "\n",
              "    [theme=dark] .colab-df-convert:hover {\n",
              "      background-color: #434B5C;\n",
              "      box-shadow: 0px 1px 3px 1px rgba(0, 0, 0, 0.15);\n",
              "      filter: drop-shadow(0px 1px 2px rgba(0, 0, 0, 0.3));\n",
              "      fill: #FFFFFF;\n",
              "    }\n",
              "  </style>\n",
              "\n",
              "      <script>\n",
              "        const buttonEl =\n",
              "          document.querySelector('#df-cf771824-1fc5-4f43-9fd1-de36a3e54c2c button.colab-df-convert');\n",
              "        buttonEl.style.display =\n",
              "          google.colab.kernel.accessAllowed ? 'block' : 'none';\n",
              "\n",
              "        async function convertToInteractive(key) {\n",
              "          const element = document.querySelector('#df-cf771824-1fc5-4f43-9fd1-de36a3e54c2c');\n",
              "          const dataTable =\n",
              "            await google.colab.kernel.invokeFunction('convertToInteractive',\n",
              "                                                     [key], {});\n",
              "          if (!dataTable) return;\n",
              "\n",
              "          const docLinkHtml = 'Like what you see? Visit the ' +\n",
              "            '<a target=\"_blank\" href=https://colab.research.google.com/notebooks/data_table.ipynb>data table notebook</a>'\n",
              "            + ' to learn more about interactive tables.';\n",
              "          element.innerHTML = '';\n",
              "          dataTable['output_type'] = 'display_data';\n",
              "          await google.colab.output.renderOutput(dataTable, element);\n",
              "          const docLink = document.createElement('div');\n",
              "          docLink.innerHTML = docLinkHtml;\n",
              "          element.appendChild(docLink);\n",
              "        }\n",
              "      </script>\n",
              "    </div>\n",
              "  </div>\n",
              "  "
            ],
            "text/plain": [
              "  stop_words  count\n",
              "9         is    302\n",
              "8        for    368\n",
              "7         on    386\n",
              "6          -    389\n",
              "5        and    462\n",
              "4         to    706\n",
              "3          a    730\n",
              "2         of    888\n",
              "1         in   1037\n",
              "0        the   1051"
            ]
          },
          "metadata": {}
        }
      ],
      "source": [
        "# stop words in dataset\n",
        "\n",
        "def create_corpus(df, target):\n",
        "    \"\"\" create corpus.\n",
        "    \"\"\"\n",
        "    corpus = []\n",
        "    for i in df[df['target']==target]['text'].str.split():\n",
        "        for x in i:\n",
        "            corpus.append(x)\n",
        "    return corpus\n",
        "\n",
        "## stop words : most common words in a language.\n",
        "def count_stopwords(df, func, target):\n",
        "    \"\"\" analyse stop words.\n",
        "    \"\"\"\n",
        "    df_stopwords = pd.DataFrame(columns=[\"stop_words\", \"count\"])\n",
        "\n",
        "    corpus = func(df, target)\n",
        "    dic = defaultdict(int)\n",
        "\n",
        "    for word in corpus:\n",
        "        dic[word] += 1\n",
        "\n",
        "    top = sorted(dic.items(), key = lambda x: x[1], reverse=True)[:10]\n",
        "    x_items,y_values = zip(*top)\n",
        "\n",
        "    # fill dataframe\n",
        "    df_stopwords[\"stop_words\"] = x_items\n",
        "    df_stopwords[\"count\"] = y_values\n",
        "    \n",
        "    # sort values\n",
        "    df_stopwords = df_stopwords.sort_values(by=[\"count\"])\n",
        "\n",
        "    return df_stopwords\n",
        "\n",
        "#analyzing stopwords for 0 and 1 target labels\n",
        "df_stopwords_0 = count_stopwords(disaster_df, create_corpus, 0)\n",
        "print(\"Stop words for Non disaster target\")\n",
        "display(df_stopwords_0)\n",
        "\n",
        "df_stopwords_1 = count_stopwords(disaster_df, create_corpus, 1)\n",
        "print(\"Stop words for disaster target\")\n",
        "display(df_stopwords_1)"
      ]
    },
    {
      "cell_type": "code",
      "execution_count": 12,
      "metadata": {
        "colab": {
          "base_uri": "https://localhost:8080/",
          "height": 376
        },
        "id": "S5zSn6NTgDJc",
        "outputId": "83f8a953-fea5-4265-e168-7c47ce08a03a"
      },
      "outputs": [
        {
          "output_type": "execute_result",
          "data": {
            "text/plain": [
              "<Figure size 504x360 with 0 Axes>"
            ]
          },
          "metadata": {},
          "execution_count": 12
        },
        {
          "output_type": "execute_result",
          "data": {
            "text/plain": [
              "Text(0.5, 1.0, 'Top stop words in non disaster tweet.')"
            ]
          },
          "metadata": {},
          "execution_count": 12
        },
        {
          "output_type": "display_data",
          "data": {
            "image/png": "[encoded data removed]",
            "text/plain": [
              "<Figure size 504x360 with 1 Axes>"
            ]
          },
          "metadata": {
            "needs_background": "light"
          }
        }
      ],
      "source": [
        "\n",
        "plt.figure(figsize=(7,5))\n",
        "ax1 = sns.barplot(x=\"stop_words\", y=\"count\", data=df_stopwords_0);\n",
        "ax1.tick_params(axis='x', rotation=90)\n",
        "plt.title(\"Top stop words in non disaster tweet.\")\n",
        "plt.show()"
      ]
    },
    {
      "cell_type": "code",
      "execution_count": 13,
      "metadata": {
        "colab": {
          "base_uri": "https://localhost:8080/",
          "height": 376
        },
        "id": "rpNGSOhjgDJc",
        "outputId": "e9f4b61c-713c-46c6-bf52-31c06cfb5ecf"
      },
      "outputs": [
        {
          "output_type": "execute_result",
          "data": {
            "text/plain": [
              "<Figure size 504x360 with 0 Axes>"
            ]
          },
          "metadata": {},
          "execution_count": 13
        },
        {
          "output_type": "execute_result",
          "data": {
            "text/plain": [
              "Text(0.5, 1.0, 'Top stop words in disaster tweet.')"
            ]
          },
          "metadata": {},
          "execution_count": 13
        },
        {
          "output_type": "display_data",
          "data": {
            "image/png": "[encoded data removed]",
            "text/plain": [
              "<Figure size 504x360 with 1 Axes>"
            ]
          },
          "metadata": {
            "needs_background": "light"
          }
        }
      ],
      "source": [
        "plt.figure(figsize=(7,5))\n",
        "ax2 = sns.barplot(x=\"stop_words\", y=\"count\", data=df_stopwords_1);\n",
        "ax2.tick_params(axis='x', rotation=90)\n",
        "plt.title(\"Top stop words in disaster tweet.\")\n",
        "plt.show()"
      ]
    },
    {
      "cell_type": "markdown",
      "metadata": {
        "id": "onGSGkWJgDJd"
      },
      "source": [
        "#### Unwanted words\n",
        "Remove unwanted words with high frequency."
      ]
    },
    {
      "cell_type": "code",
      "execution_count": 15,
      "metadata": {
        "id": "K62DYGZogDJd"
      },
      "outputs": [],
      "source": [
        "common_words = ['via','like','build','get','would','one','two','feel',\n",
        "                'lol','fuck','take','way','may','first','latest','want',\n",
        "                'make','back','see','know','let','look','come','got',\n",
        "                'still','say','think','great','pleas','amp']\n",
        "\n",
        "def text_cleaning(data):\n",
        "    return ' '.join(i for i in data.split() if i not in common_words)\n",
        "\n",
        "df[\"Cleaned_text\"] = df[\"text\"].apply(text_cleaning)"
      ]
    },
    {
      "cell_type": "markdown",
      "metadata": {
        "id": "lhEEcW_sgDJe"
      },
      "source": [
        "#### Lemmatizing\n",
        "What is lemmatizing?  \n",
        "Lemmatization is the process of grouping together the different inflected forms of a word so they can be analysed as a single item. "
      ]
    },
    {
      "cell_type": "markdown",
      "metadata": {
        "id": "_Nu5LrXygDJf"
      },
      "source": [
        "#### 10 N-grams \n",
        "They are basically a set of co-occurring words within a given window and when computing the n-grams you typically move one word forward."
      ]
    },
    {
      "cell_type": "code",
      "execution_count": 20,
      "metadata": {
        "id": "hywnSUY1gDJf"
      },
      "outputs": [],
      "source": [
        "# helper functions : n-grams\n",
        "def top_ngrams(df, N, grams):\n",
        "    count_vec = CountVectorizer(ngram_range=(grams,grams)).fit(df)\n",
        "    bow = count_vec.transform(df)\n",
        "\n",
        "    add_words = bow.sum(axis=0)\n",
        "    word_freq = [(word, add_words[0, idx]) for word, idx in count_vec.vocabulary_.items()]\n",
        "    word_freq = sorted(word_freq, key = lambda x: x[1], reverse=True) \n",
        "    return word_freq[:N]"
      ]
    },
    {
      "cell_type": "code",
      "execution_count": 19,
      "metadata": {
        "colab": {
          "base_uri": "https://localhost:8080/",
          "height": 235
        },
        "id": "bLIGt5tEgDJg",
        "outputId": "0c4c2ac1-5b36-4c2a-f386-fb9624214936"
      },
      "outputs": [
        {
          "output_type": "error",
          "ename": "NameError",
          "evalue": "ignored",
          "traceback": [
            "\u001b[0;31m---------------------------------------------------------------------------\u001b[0m",
            "\u001b[0;31mNameError\u001b[0m                                 Traceback (most recent call last)",
            "\u001b[0;32m<ipython-input-19-84b7df86529f>\u001b[0m in \u001b[0;36m<module>\u001b[0;34m()\u001b[0m\n\u001b[0;32m----> 1\u001b[0;31m \u001b[0mcommon_uni\u001b[0m \u001b[0;34m=\u001b[0m \u001b[0mtop_ngrams\u001b[0m\u001b[0;34m(\u001b[0m\u001b[0mdf\u001b[0m\u001b[0;34m[\u001b[0m\u001b[0;34m\"Cleaned_text\"\u001b[0m\u001b[0;34m]\u001b[0m\u001b[0;34m,\u001b[0m\u001b[0;36m10\u001b[0m\u001b[0;34m,\u001b[0m\u001b[0;36m1\u001b[0m\u001b[0;34m)\u001b[0m\u001b[0;34m\u001b[0m\u001b[0;34m\u001b[0m\u001b[0m\n\u001b[0m\u001b[1;32m      2\u001b[0m \u001b[0mcommon_bi\u001b[0m \u001b[0;34m=\u001b[0m \u001b[0mtop_ngrams\u001b[0m\u001b[0;34m(\u001b[0m\u001b[0mdf\u001b[0m\u001b[0;34m[\u001b[0m\u001b[0;34m\"Cleaned_text\"\u001b[0m\u001b[0;34m]\u001b[0m\u001b[0;34m,\u001b[0m\u001b[0;36m10\u001b[0m\u001b[0;34m,\u001b[0m\u001b[0;36m2\u001b[0m\u001b[0;34m)\u001b[0m\u001b[0;34m\u001b[0m\u001b[0;34m\u001b[0m\u001b[0m\n\u001b[1;32m      3\u001b[0m \u001b[0mcommon_tri\u001b[0m \u001b[0;34m=\u001b[0m \u001b[0mtop_ngrams\u001b[0m\u001b[0;34m(\u001b[0m\u001b[0mdf\u001b[0m\u001b[0;34m[\u001b[0m\u001b[0;34m\"Cleaned_text\"\u001b[0m\u001b[0;34m]\u001b[0m\u001b[0;34m,\u001b[0m\u001b[0;36m10\u001b[0m\u001b[0;34m,\u001b[0m\u001b[0;36m3\u001b[0m\u001b[0;34m)\u001b[0m\u001b[0;34m\u001b[0m\u001b[0;34m\u001b[0m\u001b[0m\n\u001b[1;32m      4\u001b[0m \u001b[0mcommon_uni_df\u001b[0m \u001b[0;34m=\u001b[0m \u001b[0mpd\u001b[0m\u001b[0;34m.\u001b[0m\u001b[0mDataFrame\u001b[0m\u001b[0;34m(\u001b[0m\u001b[0mcommon_uni\u001b[0m\u001b[0;34m,\u001b[0m\u001b[0mcolumns\u001b[0m\u001b[0;34m=\u001b[0m\u001b[0;34m[\u001b[0m\u001b[0;34m'word'\u001b[0m\u001b[0;34m,\u001b[0m\u001b[0;34m'freq'\u001b[0m\u001b[0;34m]\u001b[0m\u001b[0;34m)\u001b[0m\u001b[0;34m\u001b[0m\u001b[0;34m\u001b[0m\u001b[0m\n\u001b[1;32m      5\u001b[0m \u001b[0mcommon_bi_df\u001b[0m \u001b[0;34m=\u001b[0m \u001b[0mpd\u001b[0m\u001b[0;34m.\u001b[0m\u001b[0mDataFrame\u001b[0m\u001b[0;34m(\u001b[0m\u001b[0mcommon_bi\u001b[0m\u001b[0;34m,\u001b[0m\u001b[0mcolumns\u001b[0m\u001b[0;34m=\u001b[0m\u001b[0;34m[\u001b[0m\u001b[0;34m'word'\u001b[0m\u001b[0;34m,\u001b[0m\u001b[0;34m'freq'\u001b[0m\u001b[0;34m]\u001b[0m\u001b[0;34m)\u001b[0m\u001b[0;34m\u001b[0m\u001b[0;34m\u001b[0m\u001b[0m\n",
            "\u001b[0;31mNameError\u001b[0m: name 'top_ngrams' is not defined"
          ]
        }
      ],
      "source": [
        "common_uni = top_ngrams(df[\"Cleaned_text\"],10,1)\n",
        "common_bi = top_ngrams(df[\"Cleaned_text\"],10,2)\n",
        "common_tri = top_ngrams(df[\"Cleaned_text\"],10,3)\n",
        "common_uni_df = pd.DataFrame(common_uni,columns=['word','freq'])\n",
        "common_bi_df = pd.DataFrame(common_bi,columns=['word','freq'])\n",
        "common_tri_df = pd.DataFrame(common_tri,columns=['word','freq'])"
      ]
    },
    {
      "cell_type": "markdown",
      "metadata": {
        "id": "Rjo11-UTgDJg"
      },
      "source": [
        "### NLP Preprocessing"
      ]
    },
    {
      "cell_type": "code",
      "execution_count": null,
      "metadata": {
        "id": "0T-GBWengDJh"
      },
      "outputs": [],
      "source": [
        "# split feature, target \n",
        "X_inp_clean = df['Cleaned_text']\n",
        "X_inp_original = df['text']\n",
        "y_inp = df['target']"
      ]
    },
    {
      "cell_type": "markdown",
      "metadata": {
        "id": "iKSo0vV6gDJh"
      },
      "source": [
        "#### Tokenization\n",
        "Tokenization is essentially splitting a phrase, sentence, paragraph, or an entire text document into smaller units, such as individual words or terms. Each of these smaller units are called tokens. "
      ]
    },
    {
      "cell_type": "code",
      "execution_count": null,
      "metadata": {
        "id": "PEL-PH_sgDJh"
      },
      "outputs": [],
      "source": [
        "word_tokenizer = Tokenizer()\n",
        "word_tokenizer.fit_on_texts(X_inp_clean.values)\n",
        "vocab_length = len(word_tokenizer.word_index) + 1"
      ]
    },
    {
      "cell_type": "code",
      "execution_count": null,
      "metadata": {
        "id": "dTZkDlOdgDJh"
      },
      "outputs": [],
      "source": [
        "# Creating padded sentences using pad_sequences()\n",
        "def embed(corpus): \n",
        "    return word_tokenizer.texts_to_sequences(corpus)\n",
        "\n",
        "longest_train = max(X_inp_clean.values, key=lambda sentence: len(word_tokenize(sentence)))\n",
        "length_long_sentence = len(word_tokenize(longest_train))\n",
        "padded_sentences = pad_sequences(embed(X_inp_clean.values), \n",
        "                                 length_long_sentence, padding='post')"
      ]
    },
    {
      "cell_type": "markdown",
      "metadata": {
        "id": "MFXFt11PgDJh"
      },
      "source": [
        "#### Embedding matrix\n",
        "Creating Embedding dictionary using [Glove Twitter data].\n",
        "Link : (https://www.kaggle.com/danielwillgeorge/glove6b100dtxt)"
      ]
    },
    {
      "cell_type": "code",
      "execution_count": null,
      "metadata": {
        "id": "Nn8JRH_PgDJi"
      },
      "outputs": [],
      "source": [
        "# use glove twitter data\n",
        "embeddings_dictionary = dict()\n",
        "embedding_dim = 100\n",
        "\n",
        "glove_file = open('/content/glove.6B.100d.txt')\n",
        "\n",
        "for line in glove_file:\n",
        "    records = line.split()\n",
        "    word = records[0]\n",
        "    vector_dimensions = np.asarray(records[1:], dtype='float32')\n",
        "    embeddings_dictionary [word] = vector_dimensions\n",
        "\n",
        "glove_file.close()\n",
        "\n",
        "# creating Word Embedding matrix\n",
        "embedding_matrix = np.zeros((vocab_length, embedding_dim))\n",
        "\n",
        "for word, index in word_tokenizer.word_index.items():\n",
        "    embedding_vector = embeddings_dictionary.get(word)\n",
        "    if embedding_vector is not None:\n",
        "        embedding_matrix[index] = embedding_vector"
      ]
    },
    {
      "cell_type": "markdown",
      "metadata": {
        "id": "McpzwfEhgDJi"
      },
      "source": [
        "### Sklearn preprocessing"
      ]
    },
    {
      "cell_type": "markdown",
      "metadata": {
        "id": "hkQ88AwugDJi"
      },
      "source": [
        "#### Train, val split dataset"
      ]
    },
    {
      "cell_type": "code",
      "execution_count": null,
      "metadata": {
        "id": "lelJ2NT9gDJi"
      },
      "outputs": [],
      "source": [
        "# train, val split dataset\n",
        "X_train, X_val, y_train, y_val = train_test_split(padded_sentences,\n",
        "                                                  y_inp.values,test_size=0.2,random_state=1)"
      ]
    },
    {
      "cell_type": "markdown",
      "metadata": {
        "id": "920_FUZTgDJi"
      },
      "source": [
        "## Modelling"
      ]
    },
    {
      "cell_type": "markdown",
      "metadata": {
        "id": "lpRxF0elgDJi"
      },
      "source": [
        "### CNN Model"
      ]
    },
    {
      "cell_type": "code",
      "execution_count": null,
      "metadata": {
        "id": "wX0SzKyygDJj"
      },
      "outputs": [],
      "source": [
        "# neural network architecture\n",
        "def CNN(hp):\n",
        "    \n",
        "    model = keras.Sequential()\n",
        "    \n",
        "    hp_learning_rate = hp.Choice('learning_rate', values=[3e-2, 3e-3, 3e-4, 3e-5])\n",
        "    \n",
        "    model.add(Embedding(vocab_length, 100, weights=[embedding_matrix],\n",
        "                                     input_length=length_long_sentence,trainable=False))\n",
        "    \n",
        "    model.add(Conv1D(filters=hp.Int('conv_1_filter',min_value=21,max_value=200,step=14),\n",
        "                                kernel_size=hp.Choice('conv_1_kernel',values=[3,4,5]),\n",
        "                                activation='relu'))\n",
        "    model.add(Dropout(0.3))\n",
        "    \n",
        "    model.add(MaxPooling1D(pool_size=2))\n",
        "  \n",
        "    model.add(Flatten())\n",
        "\n",
        "    model.add(Dense(units = hp.Int('dense_1',min_value=21,max_value=150,step=14),\n",
        "                                   activation='relu'))\n",
        "    \n",
        "    model.add(Dropout(0.5))\n",
        "    \n",
        "    model.add(Dense(1,activation='sigmoid'))\n",
        "  \n",
        "    model.compile(optimizer=tf.keras.optimizers.Adam(learning_rate=hp_learning_rate),\n",
        "                loss=keras.losses.BinaryCrossentropy(from_logits=True),\n",
        "                metrics=['accuracy'])\n",
        "  \n",
        "    return model"
      ]
    },
    {
      "cell_type": "code",
      "execution_count": null,
      "metadata": {
        "id": "22pY-L7IgDJj",
        "outputId": "dc214c7e-fc36-4d71-d4e1-310ecfcaa16e"
      },
      "outputs": [
        {
          "name": "stderr",
          "output_type": "stream",
          "text": [
            "2022-01-18 02:46:00.048721: I tensorflow/core/platform/cpu_feature_guard.cc:151] This TensorFlow binary is optimized with oneAPI Deep Neural Network Library (oneDNN) to use the following CPU instructions in performance-critical operations:  AVX2 FMA\n",
            "To enable them in other operations, rebuild TensorFlow with the appropriate compiler flags.\n"
          ]
        }
      ],
      "source": [
        "# train & hyperparameters tuners\n",
        "tuner_CNN = kt.Hyperband(CNN,\n",
        "                        objective='val_accuracy',\n",
        "                        max_epochs=15, \n",
        "                        factor=5,\n",
        "                        directory='hyperband',\n",
        "                        project_name='DisasterTweets_kt',\n",
        "                        overwrite=True)"
      ]
    },
    {
      "cell_type": "code",
      "execution_count": null,
      "metadata": {
        "id": "NNRph6TlgDJj",
        "outputId": "7a96d2bc-1f44-4766-dfaa-59482f51d74d"
      },
      "outputs": [
        {
          "name": "stdout",
          "output_type": "stream",
          "text": [
            "Trial 13 Complete [00h 01m 59s]\n",
            "val_accuracy: 0.8115561604499817\n",
            "\n",
            "Best val_accuracy So Far: 0.8128693103790283\n",
            "Total elapsed time: 00h 11m 51s\n",
            "INFO:tensorflow:Oracle triggered exit\n"
          ]
        }
      ],
      "source": [
        "# choose best model\n",
        "stop_early = EarlyStopping(monitor='val_loss', \n",
        "                            mode='min',\n",
        "                            verbose=1, \n",
        "                            patience=10)\n",
        "\n",
        "tuner_CNN.search(X_train, y_train, epochs=15,\n",
        "                validation_data=(X_val,y_val),\n",
        "                callbacks=[stop_early])\n",
        "\n",
        "# Get the optimal hyperparameters\n",
        "best_hps_CNN=tuner_CNN.get_best_hyperparameters(num_trials=1)[0]"
      ]
    },
    {
      "cell_type": "code",
      "execution_count": null,
      "metadata": {
        "id": "1GBzrvt1gDJj",
        "outputId": "167c67b2-0fa3-41e5-ee11-f1802fcf7efc"
      },
      "outputs": [
        {
          "name": "stdout",
          "output_type": "stream",
          "text": [
            "Epoch 1/50\n",
            "187/191 [============================>.] - ETA: 0s - loss: 0.6407 - accuracy: 0.6390\n",
            "Epoch 00001: val_loss improved from inf to 0.54154, saving model to model_CNN.h5\n",
            "191/191 [==============================] - 4s 16ms/step - loss: 0.6404 - accuracy: 0.6399 - val_loss: 0.5415 - val_accuracy: 0.7459\n",
            "Epoch 2/50\n",
            "188/191 [============================>.] - ETA: 0s - loss: 0.5228 - accuracy: 0.7566\n",
            "Epoch 00002: val_loss improved from 0.54154 to 0.47797, saving model to model_CNN.h5\n",
            "191/191 [==============================] - 3s 17ms/step - loss: 0.5225 - accuracy: 0.7565 - val_loss: 0.4780 - val_accuracy: 0.7905\n",
            "Epoch 3/50\n",
            "188/191 [============================>.] - ETA: 0s - loss: 0.4805 - accuracy: 0.7856\n",
            "Epoch 00003: val_loss improved from 0.47797 to 0.46221, saving model to model_CNN.h5\n",
            "191/191 [==============================] - 3s 13ms/step - loss: 0.4819 - accuracy: 0.7852 - val_loss: 0.4622 - val_accuracy: 0.7997\n",
            "Epoch 4/50\n",
            "187/191 [============================>.] - ETA: 0s - loss: 0.4589 - accuracy: 0.7975\n",
            "Epoch 00004: val_loss improved from 0.46221 to 0.45108, saving model to model_CNN.h5\n",
            "191/191 [==============================] - 3s 16ms/step - loss: 0.4576 - accuracy: 0.7975 - val_loss: 0.4511 - val_accuracy: 0.8056\n",
            "Epoch 5/50\n",
            "190/191 [============================>.] - ETA: 0s - loss: 0.4378 - accuracy: 0.8043\n",
            "Epoch 00005: val_loss improved from 0.45108 to 0.44603, saving model to model_CNN.h5\n",
            "191/191 [==============================] - 3s 16ms/step - loss: 0.4381 - accuracy: 0.8041 - val_loss: 0.4460 - val_accuracy: 0.8070\n",
            "Epoch 6/50\n",
            "189/191 [============================>.] - ETA: 0s - loss: 0.4317 - accuracy: 0.8117\n",
            "Epoch 00006: val_loss improved from 0.44603 to 0.44227, saving model to model_CNN.h5\n",
            "191/191 [==============================] - 3s 16ms/step - loss: 0.4320 - accuracy: 0.8115 - val_loss: 0.4423 - val_accuracy: 0.8102\n",
            "Epoch 7/50\n",
            "189/191 [============================>.] - ETA: 0s - loss: 0.4218 - accuracy: 0.8161\n",
            "Epoch 00007: val_loss did not improve from 0.44227\n",
            "191/191 [==============================] - 3s 15ms/step - loss: 0.4213 - accuracy: 0.8163 - val_loss: 0.4441 - val_accuracy: 0.8102\n",
            "Epoch 8/50\n",
            "190/191 [============================>.] - ETA: 0s - loss: 0.4079 - accuracy: 0.8230\n",
            "Epoch 00008: val_loss improved from 0.44227 to 0.43651, saving model to model_CNN.h5\n",
            "191/191 [==============================] - 4s 22ms/step - loss: 0.4079 - accuracy: 0.8230 - val_loss: 0.4365 - val_accuracy: 0.8116\n",
            "Epoch 9/50\n",
            "187/191 [============================>.] - ETA: 0s - loss: 0.4011 - accuracy: 0.8316\n",
            "Epoch 00009: val_loss did not improve from 0.43651\n",
            "191/191 [==============================] - 3s 17ms/step - loss: 0.4015 - accuracy: 0.8315 - val_loss: 0.4467 - val_accuracy: 0.8050\n",
            "Epoch 10/50\n",
            "188/191 [============================>.] - ETA: 0s - loss: 0.3971 - accuracy: 0.8276\n",
            "Epoch 00010: val_loss did not improve from 0.43651\n",
            "191/191 [==============================] - 3s 17ms/step - loss: 0.3966 - accuracy: 0.8282 - val_loss: 0.4475 - val_accuracy: 0.7978\n",
            "Epoch 11/50\n",
            "188/191 [============================>.] - ETA: 0s - loss: 0.3884 - accuracy: 0.8371\n",
            "Epoch 00011: val_loss improved from 0.43651 to 0.43640, saving model to model_CNN.h5\n",
            "191/191 [==============================] - 4s 20ms/step - loss: 0.3883 - accuracy: 0.8371 - val_loss: 0.4364 - val_accuracy: 0.8148\n",
            "Epoch 12/50\n",
            "190/191 [============================>.] - ETA: 0s - loss: 0.3749 - accuracy: 0.8459\n",
            "Epoch 00012: val_loss did not improve from 0.43640\n",
            "191/191 [==============================] - 4s 18ms/step - loss: 0.3751 - accuracy: 0.8458 - val_loss: 0.4390 - val_accuracy: 0.8043\n",
            "Epoch 13/50\n",
            "188/191 [============================>.] - ETA: 0s - loss: 0.3652 - accuracy: 0.8479\n",
            "Epoch 00013: val_loss did not improve from 0.43640\n",
            "191/191 [==============================] - 4s 18ms/step - loss: 0.3657 - accuracy: 0.8476 - val_loss: 0.4584 - val_accuracy: 0.7938\n",
            "Epoch 14/50\n",
            "191/191 [==============================] - ETA: 0s - loss: 0.3646 - accuracy: 0.8438\n",
            "Epoch 00014: val_loss did not improve from 0.43640\n",
            "191/191 [==============================] - 3s 17ms/step - loss: 0.3646 - accuracy: 0.8438 - val_loss: 0.4442 - val_accuracy: 0.8070\n",
            "Epoch 15/50\n",
            "191/191 [==============================] - ETA: 0s - loss: 0.3458 - accuracy: 0.8581\n",
            "Epoch 00015: val_loss did not improve from 0.43640\n",
            "191/191 [==============================] - 4s 20ms/step - loss: 0.3458 - accuracy: 0.8581 - val_loss: 0.4526 - val_accuracy: 0.7971\n",
            "Epoch 16/50\n",
            "191/191 [==============================] - ETA: 0s - loss: 0.3352 - accuracy: 0.8580\n",
            "Epoch 00016: val_loss did not improve from 0.43640\n",
            "191/191 [==============================] - 3s 18ms/step - loss: 0.3352 - accuracy: 0.8580 - val_loss: 0.4486 - val_accuracy: 0.8096\n",
            "Epoch 17/50\n",
            "189/191 [============================>.] - ETA: 0s - loss: 0.3287 - accuracy: 0.8634\n",
            "Epoch 00017: val_loss did not improve from 0.43640\n",
            "191/191 [==============================] - 3s 17ms/step - loss: 0.3289 - accuracy: 0.8634 - val_loss: 0.4605 - val_accuracy: 0.7912\n",
            "Epoch 18/50\n",
            "191/191 [==============================] - ETA: 0s - loss: 0.3265 - accuracy: 0.8637\n",
            "Epoch 00018: val_loss did not improve from 0.43640\n",
            "191/191 [==============================] - 3s 17ms/step - loss: 0.3265 - accuracy: 0.8637 - val_loss: 0.4555 - val_accuracy: 0.7938\n",
            "Epoch 19/50\n",
            "191/191 [==============================] - ETA: 0s - loss: 0.3164 - accuracy: 0.8724\n",
            "Epoch 00019: val_loss did not improve from 0.43640\n",
            "191/191 [==============================] - 3s 15ms/step - loss: 0.3164 - accuracy: 0.8724 - val_loss: 0.4513 - val_accuracy: 0.8122\n",
            "Epoch 20/50\n",
            "189/191 [============================>.] - ETA: 0s - loss: 0.3105 - accuracy: 0.8752\n",
            "Epoch 00020: val_loss did not improve from 0.43640\n",
            "191/191 [==============================] - 3s 16ms/step - loss: 0.3102 - accuracy: 0.8752 - val_loss: 0.4510 - val_accuracy: 0.8063\n",
            "Epoch 21/50\n",
            "191/191 [==============================] - ETA: 0s - loss: 0.3034 - accuracy: 0.8714\n",
            "Epoch 00021: val_loss did not improve from 0.43640\n",
            "191/191 [==============================] - 3s 15ms/step - loss: 0.3034 - accuracy: 0.8714 - val_loss: 0.4562 - val_accuracy: 0.7991\n",
            "Epoch 00021: early stopping\n"
          ]
        }
      ],
      "source": [
        "model_CNN = tuner_CNN.hypermodel.build(best_hps_CNN)\n",
        "\n",
        "checkpoint = ModelCheckpoint(\n",
        "    'model_CNN.h5', \n",
        "    monitor = 'val_loss', \n",
        "    verbose = 1, \n",
        "    save_best_only = True\n",
        ")\n",
        "\n",
        "history_CNN = model_CNN.fit(X_train, y_train, epochs=50,\n",
        "                            validation_data=(X_val,y_val),\n",
        "                            callbacks=[checkpoint,stop_early])"
      ]
    },
    {
      "cell_type": "code",
      "execution_count": null,
      "metadata": {
        "id": "GM8gyXqggDJk",
        "outputId": "95adc478-7641-4fdc-c3a6-76d2dd2002f7"
      },
      "outputs": [
        {
          "name": "stdout",
          "output_type": "stream",
          "text": [
            "Model: \"sequential_1\"\n",
            "_________________________________________________________________\n",
            " Layer (type)                Output Shape              Param #   \n",
            "=================================================================\n",
            " embedding_1 (Embedding)     (None, 71, 100)           2270100   \n",
            "                                                                 \n",
            " conv1d_1 (Conv1D)           (None, 69, 49)            14749     \n",
            "                                                                 \n",
            " dropout_2 (Dropout)         (None, 69, 49)            0         \n",
            "                                                                 \n",
            " max_pooling1d_1 (MaxPooling  (None, 34, 49)           0         \n",
            " 1D)                                                             \n",
            "                                                                 \n",
            " flatten_1 (Flatten)         (None, 1666)              0         \n",
            "                                                                 \n",
            " dense_2 (Dense)             (None, 21)                35007     \n",
            "                                                                 \n",
            " dropout_3 (Dropout)         (None, 21)                0         \n",
            "                                                                 \n",
            " dense_3 (Dense)             (None, 1)                 22        \n",
            "                                                                 \n",
            "=================================================================\n",
            "Total params: 2,319,878\n",
            "Trainable params: 49,778\n",
            "Non-trainable params: 2,270,100\n",
            "_________________________________________________________________\n"
          ]
        }
      ],
      "source": [
        "# model summary\n",
        "model_CNN.summary()"
      ]
    },
    {
      "cell_type": "code",
      "execution_count": null,
      "metadata": {
        "id": "-O4NgbEqgDJk",
        "outputId": "2ad31237-628c-4280-cc68-0631db02cddf"
      },
      "outputs": [
        {
          "data": {
            "image/png": "[encoded data removed]",
            "text/plain": [
              "<Figure size 864x360 with 2 Axes>"
            ]
          },
          "metadata": {
            "needs_background": "light"
          },
          "output_type": "display_data"
        }
      ],
      "source": [
        "# model_history()\n",
        "def model_history(model_history):\n",
        "    fig,(ax1,ax2) =  plt.subplots(1,2,figsize=(12,5))\n",
        "    \n",
        "    # summarize history for accuracy\n",
        "    ax1.plot(model_history.history['accuracy'])\n",
        "    ax1.plot(model_history.history['val_accuracy'])\n",
        "    ax1.set_title('model accuracy')\n",
        "    ax1.set_ylabel('accuracy')\n",
        "    ax1.set_xlabel('epoch')\n",
        "    ax1.legend(['train', 'test'], loc='upper right')\n",
        "\n",
        "    # summarize history for loss\n",
        "    ax2.plot(model_history.history['loss'])\n",
        "    ax2.plot(model_history.history['val_loss'])\n",
        "    ax2.set_title('model loss')\n",
        "    ax2.set_ylabel('loss')\n",
        "    ax2.set_xlabel('epoch')\n",
        "    ax2.legend(['train', 'test'], loc='upper right')\n",
        "    \n",
        "    fig.suptitle(\"Model History\")\n",
        "\n",
        "# model history\n",
        "model_history(history_CNN)"
      ]
    }
  ],
  "metadata": {
    "interpreter": {
      "hash": "911acb33fe473622fa8065f3c8cf89f8f56d501254f2255fbb156b0c4c21bb3e"
    },
    "kernelspec": {
      "display_name": "Python 3.8.3 64-bit ('auth': venv)",
      "language": "python",
      "name": "python3"
    },
    "language_info": {
      "codemirror_mode": {
        "name": "ipython",
        "version": 3
      },
      "file_extension": ".py",
      "mimetype": "text/x-python",
      "name": "python",
      "nbconvert_exporter": "python",
      "pygments_lexer": "ipython3",
      "version": "3.8.3"
    },
    "orig_nbformat": 4,
    "colab": {
      "name": "Disaster_Date_Project.ipynb",
      "provenance": [],
      "collapsed_sections": []
    }
  },
  "nbformat": 4,
  "nbformat_minor": 0
}